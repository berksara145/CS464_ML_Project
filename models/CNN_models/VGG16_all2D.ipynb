{
 "cells": [
  {
   "cell_type": "markdown",
   "metadata": {},
   "source": [
    "# In here I will implement the VGG16 model with all the 2D data which are ['stft_db', 'chroma', 'mfccs'] I will turn them all into (224,224,3)"
   ]
  },
  {
   "cell_type": "code",
   "execution_count": 21,
   "metadata": {},
   "outputs": [],
   "source": [
    "\n",
    "import pandas as pd\n",
    "import numpy as np\n",
    "import matplotlib.pyplot as plt\n",
    "from sklearn.metrics import confusion_matrix\n",
    "import os\n",
    "import pickle\n",
    "import matplotlib.pyplot as plt\n",
    "import seaborn as sns\n",
    "from tensorflow.keras.utils import to_categorical\n",
    "\n",
    "import torch\n",
    "# Import libraries\n",
    "import seaborn as sn\n",
    "import numpy as np\n",
    "import pandas as pd\n",
    "import matplotlib.pyplot as plt\n",
    "from sklearn.model_selection import train_test_split\n",
    "import seaborn as sn\n",
    "from sklearn.metrics import classification_report, confusion_matrix\n",
    "from keras.models import Sequential\n",
    "from keras.layers import Flatten, Dense\n",
    "from tensorflow.keras.utils import to_categorical\n",
    "from keras.applications import VGG16\n"
   ]
  },
  {
   "cell_type": "code",
   "execution_count": 22,
   "metadata": {},
   "outputs": [
    {
     "name": "stdout",
     "output_type": "stream",
     "text": [
      "True\n"
     ]
    }
   ],
   "source": [
    "use_gpu = torch.cuda.is_available()\n",
    "print(use_gpu)"
   ]
  },
  {
   "cell_type": "code",
   "execution_count": 23,
   "metadata": {},
   "outputs": [
    {
     "name": "stderr",
     "output_type": "stream",
     "text": [
      "Exception ignored in: <bound method IPythonKernel._clean_thread_parent_frames of <ipykernel.ipkernel.IPythonKernel object at 0x00000219BA572B90>>\n",
      "Traceback (most recent call last):\n",
      "  File \"c:\\Users\\PC\\Documents\\GitHub\\CS464_ML_Project\\venv\\lib\\site-packages\\ipykernel\\ipkernel.py\", line 775, in _clean_thread_parent_frames\n",
      "    def _clean_thread_parent_frames(\n",
      "KeyboardInterrupt: \n"
     ]
    },
    {
     "name": "stdout",
     "output_type": "stream",
     "text": [
      "(637, 9)\n"
     ]
    }
   ],
   "source": [
    "\n",
    "genre_names = ['rock', 'pop', 'arabesk', 'turk_sanat', 'jazz', 'rap']\n",
    "\n",
    "# Load the features.pkl file\n",
    "with open('../../data/features.pkl', 'rb') as file:\n",
    "    all_features = pickle.load(file)\n",
    "\n",
    "# Convert the list of dictionaries to a DataFrame\n",
    "df = pd.DataFrame(all_features)\n",
    "\n",
    "# Display the DataFrame (optional)\n",
    "print(df.shape)"
   ]
  },
  {
   "cell_type": "code",
   "execution_count": 4,
   "metadata": {},
   "outputs": [
    {
     "name": "stdout",
     "output_type": "stream",
     "text": [
      "['stft_db', 'spectral_rolloff', 'zcr', 'chroma', 'mfccs', 'rms', 'spectral_centroid', 'file_name', 'label']\n",
      "(1025, 1280)\n"
     ]
    }
   ],
   "source": [
    "column_names = list(df.columns)\n",
    "print(column_names)\n",
    "print(df['stft_db'][0].shape)"
   ]
  },
  {
   "cell_type": "code",
   "execution_count": 10,
   "metadata": {},
   "outputs": [],
   "source": [
    "# Function to process a single feature (e.g., STFT, Chroma, MFCC)\n",
    "def preprocess_feature(feature_data):\n",
    "    resized = torch.nn.functional.interpolate(\n",
    "        torch.tensor(feature_data).unsqueeze(0).unsqueeze(0),  # Add batch and channel dims\n",
    "        size=(224, 224),\n",
    "        mode='bilinear',\n",
    "        align_corners=False\n",
    "    ).squeeze(0).squeeze(0)\n",
    "    \n",
    "    # Normalize to 0-1 range\n",
    "    normalized = (resized - resized.min()) / (resized.max() - resized.min())\n",
    "    \n",
    "    return normalized\n",
    "\n",
    "# Convert all features and combine them into a single 3-channel input\n",
    "processed_features = []\n",
    "for _, row in df.iterrows():\n",
    "    stft = preprocess_feature(row['stft_db'])  # Shape: (224, 224)\n",
    "    chroma = preprocess_feature(row['chroma'])  # Shape: (224, 224)\n",
    "    mfccs = preprocess_feature(row['mfccs'])  # Shape: (224, 224)\n",
    "\n",
    "    # Stack them into (3, 224, 224) and permute to (224, 224, 3)\n",
    "    combined = torch.stack([stft, chroma, mfccs], dim=0).permute(1, 2, 0)\n",
    "    \n",
    "    processed_features.append(combined)  # Convert to NumPy for later use\n",
    "\n",
    "\n",
    "y = to_categorical(df['label'].values, num_classes=len(genre_names))"
   ]
  },
  {
   "cell_type": "code",
   "execution_count": 11,
   "metadata": {},
   "outputs": [
    {
     "name": "stdout",
     "output_type": "stream",
     "text": [
      "Processed data shape: (637, 224, 224, 3)\n"
     ]
    }
   ],
   "source": [
    "# Convert to tensor\n",
    "X = np.array(processed_features)  # Shape: (num_samples, 224, 224, 3)\n",
    "print(\"Processed data shape:\", X.shape)  # Should be (n_samples, 224, 224, 3)"
   ]
  },
  {
   "cell_type": "code",
   "execution_count": 12,
   "metadata": {},
   "outputs": [],
   "source": [
    "X_train, X_test, y_train, y_test = train_test_split(X, y, test_size=0.2)"
   ]
  },
  {
   "cell_type": "code",
   "execution_count": 14,
   "metadata": {},
   "outputs": [
    {
     "name": "stdout",
     "output_type": "stream",
     "text": [
      "Epoch 1/10\n",
      "\u001b[1m13/13\u001b[0m \u001b[32m━━━━━━━━━━━━━━━━━━━━\u001b[0m\u001b[37m\u001b[0m \u001b[1m51s\u001b[0m 4s/step - accuracy: 0.1871 - loss: 2.1620 - val_accuracy: 0.3725 - val_loss: 1.4883\n",
      "Epoch 2/10\n",
      "\u001b[1m13/13\u001b[0m \u001b[32m━━━━━━━━━━━━━━━━━━━━\u001b[0m\u001b[37m\u001b[0m \u001b[1m34s\u001b[0m 3s/step - accuracy: 0.3874 - loss: 1.4535 - val_accuracy: 0.3235 - val_loss: 1.4834\n",
      "Epoch 3/10\n",
      "\u001b[1m13/13\u001b[0m \u001b[32m━━━━━━━━━━━━━━━━━━━━\u001b[0m\u001b[37m\u001b[0m \u001b[1m35s\u001b[0m 3s/step - accuracy: 0.4217 - loss: 1.3484 - val_accuracy: 0.5000 - val_loss: 1.2784\n",
      "Epoch 4/10\n",
      "\u001b[1m13/13\u001b[0m \u001b[32m━━━━━━━━━━━━━━━━━━━━\u001b[0m\u001b[37m\u001b[0m \u001b[1m36s\u001b[0m 3s/step - accuracy: 0.5783 - loss: 1.0934 - val_accuracy: 0.3824 - val_loss: 1.2942\n",
      "Epoch 5/10\n",
      "\u001b[1m13/13\u001b[0m \u001b[32m━━━━━━━━━━━━━━━━━━━━\u001b[0m\u001b[37m\u001b[0m \u001b[1m36s\u001b[0m 3s/step - accuracy: 0.5069 - loss: 1.0795 - val_accuracy: 0.4706 - val_loss: 1.1437\n",
      "Epoch 6/10\n",
      "\u001b[1m13/13\u001b[0m \u001b[32m━━━━━━━━━━━━━━━━━━━━\u001b[0m\u001b[37m\u001b[0m \u001b[1m31s\u001b[0m 2s/step - accuracy: 0.6210 - loss: 0.9075 - val_accuracy: 0.5784 - val_loss: 0.9942\n",
      "Epoch 7/10\n",
      "\u001b[1m13/13\u001b[0m \u001b[32m━━━━━━━━━━━━━━━━━━━━\u001b[0m\u001b[37m\u001b[0m \u001b[1m31s\u001b[0m 2s/step - accuracy: 0.6969 - loss: 0.7907 - val_accuracy: 0.5490 - val_loss: 1.0384\n",
      "Epoch 8/10\n",
      "\u001b[1m13/13\u001b[0m \u001b[32m━━━━━━━━━━━━━━━━━━━━\u001b[0m\u001b[37m\u001b[0m \u001b[1m32s\u001b[0m 2s/step - accuracy: 0.7712 - loss: 0.6928 - val_accuracy: 0.5882 - val_loss: 0.9770\n",
      "Epoch 9/10\n",
      "\u001b[1m13/13\u001b[0m \u001b[32m━━━━━━━━━━━━━━━━━━━━\u001b[0m\u001b[37m\u001b[0m \u001b[1m33s\u001b[0m 3s/step - accuracy: 0.7393 - loss: 0.7227 - val_accuracy: 0.5588 - val_loss: 0.9495\n",
      "Epoch 10/10\n",
      "\u001b[1m13/13\u001b[0m \u001b[32m━━━━━━━━━━━━━━━━━━━━\u001b[0m\u001b[37m\u001b[0m \u001b[1m32s\u001b[0m 3s/step - accuracy: 0.8224 - loss: 0.5992 - val_accuracy: 0.5882 - val_loss: 0.9367\n"
     ]
    },
    {
     "data": {
      "text/plain": [
       "<keras.src.callbacks.history.History at 0x21b740a7010>"
      ]
     },
     "execution_count": 14,
     "metadata": {},
     "output_type": "execute_result"
    }
   ],
   "source": [
    "checkpoint_dir = \"vgg_models/\"\n",
    "os.makedirs(checkpoint_dir, exist_ok=True)\n",
    "\n",
    "# Load pre-trained VGG16 model (without including top fully connected layers)\n",
    "vgg_model = VGG16(weights='imagenet', include_top=False, input_shape=(224,224,3))\n",
    "\n",
    "# Freeze the pre-trained layers\n",
    "for layer in vgg_model.layers:\n",
    "    layer.trainable = False\n",
    "\n",
    "# Add classification head\n",
    "model = Sequential()\n",
    "model.add(vgg_model)\n",
    "model.add(Flatten())\n",
    "model.add(Dense(128, activation='relu'))\n",
    "model.add(Dense(64, activation='relu'))\n",
    "model.add(Dense(len(genre_names), activation='softmax'))  # Output layer with num_classes units\n",
    "\n",
    "model.compile(optimizer='adam', loss='categorical_crossentropy', metrics=['accuracy'])\n",
    "\n",
    "# Train the model\n",
    "model.fit(X_train, y_train, epochs=10, batch_size=32, validation_split=0.2)\n",
    "\n"
   ]
  },
  {
   "cell_type": "code",
   "execution_count": 15,
   "metadata": {},
   "outputs": [],
   "source": [
    "# Save the final trained model\n",
    "model.save(f\"vgg_models/vgg16_2D_epoch_10_batch_32.keras\")"
   ]
  },
  {
   "cell_type": "code",
   "execution_count": 19,
   "metadata": {},
   "outputs": [],
   "source": [
    "# Load the saved VGGNet model\n",
    "saved_model_path = \"vgg_models/vgg16_2D_epoch_10_batch_32.keras\"\n",
    "model = load_model(saved_model_path)"
   ]
  },
  {
   "cell_type": "code",
   "execution_count": 20,
   "metadata": {},
   "outputs": [
    {
     "name": "stdout",
     "output_type": "stream",
     "text": [
      "\u001b[1m4/4\u001b[0m \u001b[32m━━━━━━━━━━━━━━━━━━━━\u001b[0m\u001b[37m\u001b[0m \u001b[1m10s\u001b[0m 2s/step - accuracy: 0.5625 - loss: 0.9412\n",
      "Test Loss: 0.9569\n",
      "Test Accuracy: 0.5469\n",
      "\u001b[1m4/4\u001b[0m \u001b[32m━━━━━━━━━━━━━━━━━━━━\u001b[0m\u001b[37m\u001b[0m \u001b[1m9s\u001b[0m 2s/step\n",
      "Classification Report:\n",
      "              precision    recall  f1-score   support\n",
      "\n",
      "        rock       0.79      0.61      0.69        18\n",
      "         pop       0.55      0.32      0.40        19\n",
      "     arabesk       0.33      0.57      0.42        21\n",
      "  turk_sanat       0.46      0.50      0.48        24\n",
      "        jazz       0.94      0.55      0.69        31\n",
      "         rap       0.52      0.80      0.63        15\n",
      "\n",
      "    accuracy                           0.55       128\n",
      "   macro avg       0.60      0.56      0.55       128\n",
      "weighted avg       0.62      0.55      0.56       128\n",
      "\n"
     ]
    },
    {
     "data": {
      "image/png": "[encoded data removed]",
      "text/plain": [
       "<Figure size 1000x700 with 2 Axes>"
      ]
     },
     "metadata": {},
     "output_type": "display_data"
    }
   ],
   "source": [
    "# Evaluate the model on test data\n",
    "test_loss, test_accuracy = model.evaluate(X_test, y_test, verbose=1)\n",
    "print(f\"Test Loss: {test_loss:.4f}\")\n",
    "print(f\"Test Accuracy: {test_accuracy:.4f}\")\n",
    "\n",
    "# Get predicted probabilities for each class\n",
    "y_pred_probs = model.predict(X_test)\n",
    "\n",
    "# Get predicted class labels\n",
    "y_pred_labels = np.argmax(y_pred_probs, axis=1)\n",
    "\n",
    "# Get true class labels (already one-hot encoded)\n",
    "y_true_labels = np.argmax(y_test, axis=1)\n",
    "\n",
    "# Generate and display a classification report\n",
    "class_names = genre_names  # List of genre names\n",
    "classification_rep = classification_report(y_true_labels, y_pred_labels, target_names=class_names)\n",
    "print(\"Classification Report:\")\n",
    "print(classification_rep)\n",
    "\n",
    "# Generate and display a confusion matrix\n",
    "conf_mat = confusion_matrix(y_true_labels, y_pred_labels)\n",
    "plt.figure(figsize=(10, 7))\n",
    "sn.heatmap(conf_mat, annot=True, fmt='d', cmap='Blues', xticklabels=class_names, yticklabels=class_names)\n",
    "plt.title(\"Confusion Matrix\")\n",
    "plt.xlabel(\"Predicted Label\")\n",
    "plt.ylabel(\"True Label\")\n",
    "plt.show()"
   ]
  }
 ],
 "metadata": {
  "kernelspec": {
   "display_name": "venv",
   "language": "python",
   "name": "python3"
  },
  "language_info": {
   "codemirror_mode": {
    "name": "ipython",
    "version": 3
   },
   "file_extension": ".py",
   "mimetype": "text/x-python",
   "name": "python",
   "nbconvert_exporter": "python",
   "pygments_lexer": "ipython3",
   "version": "3.10.6"
  },
  "orig_nbformat": 4
 },
 "nbformat": 4,
 "nbformat_minor": 2
}
