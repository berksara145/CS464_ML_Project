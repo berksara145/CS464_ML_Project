{
 "cells": [
  {
   "cell_type": "markdown",
   "metadata": {},
   "source": [
    "# In here I will implement the VGG16 model with only the stft data (1025, 2560) that will be converted to 224x224x3 by copying data"
   ]
  },
  {
   "cell_type": "code",
   "execution_count": 1,
   "metadata": {},
   "outputs": [],
   "source": [
    "\n",
    "import pandas as pd\n",
    "import numpy as np\n",
    "import matplotlib.pyplot as plt\n",
    "from sklearn.metrics import confusion_matrix\n",
    "import os\n",
    "import pickle\n",
    "import matplotlib.pyplot as plt\n",
    "from tensorflow.keras.utils import to_categorical\n",
    "from keras.models import load_model, Model\n",
    "\n",
    "# algorithms\n",
    "import torch\n",
    "import seaborn as sn\n",
    "import numpy as np\n",
    "import pandas as pd\n",
    "import matplotlib.pyplot as plt\n",
    "from sklearn.model_selection import train_test_split\n",
    "import seaborn as sn\n",
    "from sklearn.metrics import classification_report, confusion_matrix\n",
    "from keras.models import Sequential\n",
    "from keras.layers import Flatten, Dense\n",
    "from tensorflow.keras.utils import to_categorical\n",
    "from keras.applications import VGG16\n"
   ]
  },
  {
   "cell_type": "code",
   "execution_count": 2,
   "metadata": {},
   "outputs": [
    {
     "name": "stdout",
     "output_type": "stream",
     "text": [
      "True\n"
     ]
    }
   ],
   "source": [
    "use_gpu = torch.cuda.is_available()\n",
    "print(use_gpu)"
   ]
  },
  {
   "cell_type": "code",
   "execution_count": 3,
   "metadata": {},
   "outputs": [
    {
     "name": "stdout",
     "output_type": "stream",
     "text": [
      "(558, 9)\n"
     ]
    }
   ],
   "source": [
    "\n",
    "genre_names = ['rock', 'pop', 'arabesk', 'turk_sanat', 'jazz', 'rap']\n",
    "\n",
    "# Load the features.pkl file\n",
    "with open('../../data/features.pkl', 'rb') as file:\n",
    "    all_features = pickle.load(file)\n",
    "\n",
    "# Convert the list of dictionaries to a DataFrame\n",
    "df = pd.DataFrame(all_features)\n",
    "\n",
    "# Display the DataFrame (optional)\n",
    "print(df.shape)"
   ]
  },
  {
   "cell_type": "code",
   "execution_count": 4,
   "metadata": {},
   "outputs": [
    {
     "name": "stdout",
     "output_type": "stream",
     "text": [
      "['stft_db', 'spectral_rolloff', 'zcr', 'chroma', 'mfccs', 'rms', 'spectral_centroid', 'file_name', 'label']\n",
      "(1025, 1280)\n"
     ]
    }
   ],
   "source": [
    "column_names = list(df.columns)\n",
    "print(column_names)\n",
    "print(df['stft_db'][0].shape)"
   ]
  },
  {
   "cell_type": "code",
   "execution_count": 5,
   "metadata": {},
   "outputs": [],
   "source": [
    "# Convert STFT data to 224x224x3 format for VGG input\n",
    "def preprocess_stft_for_vgg(stft_data):\n",
    "    # Resize STFT data to 224x224\n",
    "    resized = torch.nn.functional.interpolate(\n",
    "        torch.tensor(stft_data).unsqueeze(0).unsqueeze(0),  # Add batch and channel dims\n",
    "        size=(224, 224),\n",
    "        mode='bilinear',\n",
    "        align_corners=False\n",
    "    ).squeeze(0).squeeze(0)\n",
    "    \n",
    "    # Normalize to 0-1 range\n",
    "    normalized = (resized - resized.min()) / (resized.max() - resized.min())\n",
    "    \n",
    "    # Repeat the single channel 3 times to create RGB-like input\n",
    "    rgb_input = normalized.unsqueeze(0).repeat(3, 1, 1)\n",
    "    \n",
    "    # Permute dimensions to get 224x224x3\n",
    "    rgb_input = rgb_input.permute(1, 2, 0)\n",
    "    \n",
    "    return rgb_input\n",
    "\n",
    "# Convert all STFT data in the dataset\n",
    "processed_features = []\n",
    "for stft in df['stft_db']:\n",
    "    processed_features.append(preprocess_stft_for_vgg(stft))\n",
    "\n",
    "y = to_categorical(df['label'].values, num_classes=len(genre_names))\n"
   ]
  },
  {
   "cell_type": "code",
   "execution_count": 6,
   "metadata": {},
   "outputs": [
    {
     "name": "stdout",
     "output_type": "stream",
     "text": [
      "torch.Size([224, 224, 3])\n"
     ]
    }
   ],
   "source": [
    "print(processed_features[0].shape)"
   ]
  },
  {
   "cell_type": "code",
   "execution_count": 7,
   "metadata": {},
   "outputs": [
    {
     "name": "stdout",
     "output_type": "stream",
     "text": [
      "Processed data shape: torch.Size([558, 224, 224, 3])\n"
     ]
    }
   ],
   "source": [
    "# Convert to tensor\n",
    "X = torch.stack(processed_features)\n",
    "print(\"Processed data shape:\", X.shape)  # Should be (n_samples, 224, 224, 3)"
   ]
  },
  {
   "cell_type": "code",
   "execution_count": 8,
   "metadata": {},
   "outputs": [],
   "source": [
    "X_train, X_test, y_train, y_test = train_test_split(X, y, test_size=0.2)"
   ]
  },
  {
   "cell_type": "code",
   "execution_count": 9,
   "metadata": {},
   "outputs": [
    {
     "name": "stdout",
     "output_type": "stream",
     "text": [
      "Epoch 1/10\n",
      "\u001b[1m12/12\u001b[0m \u001b[32m━━━━━━━━━━━━━━━━━━━━\u001b[0m\u001b[37m\u001b[0m \u001b[1m87s\u001b[0m 4s/step - accuracy: 0.1923 - loss: 2.1721 - val_accuracy: 0.4222 - val_loss: 1.5251\n",
      "Epoch 2/10\n",
      "\u001b[1m12/12\u001b[0m \u001b[32m━━━━━━━━━━━━━━━━━━━━\u001b[0m\u001b[37m\u001b[0m \u001b[1m43s\u001b[0m 4s/step - accuracy: 0.4666 - loss: 1.4496 - val_accuracy: 0.4667 - val_loss: 1.3500\n",
      "Epoch 3/10\n",
      "\u001b[1m12/12\u001b[0m \u001b[32m━━━━━━━━━━━━━━━━━━━━\u001b[0m\u001b[37m\u001b[0m \u001b[1m39s\u001b[0m 3s/step - accuracy: 0.5741 - loss: 1.1481 - val_accuracy: 0.5444 - val_loss: 1.1841\n",
      "Epoch 4/10\n",
      "\u001b[1m12/12\u001b[0m \u001b[32m━━━━━━━━━━━━━━━━━━━━\u001b[0m\u001b[37m\u001b[0m \u001b[1m43s\u001b[0m 4s/step - accuracy: 0.6936 - loss: 1.0082 - val_accuracy: 0.5778 - val_loss: 1.0662\n",
      "Epoch 5/10\n",
      "\u001b[1m12/12\u001b[0m \u001b[32m━━━━━━━━━━━━━━━━━━━━\u001b[0m\u001b[37m\u001b[0m \u001b[1m43s\u001b[0m 4s/step - accuracy: 0.7141 - loss: 0.8699 - val_accuracy: 0.5222 - val_loss: 1.1824\n",
      "Epoch 6/10\n",
      "\u001b[1m12/12\u001b[0m \u001b[32m━━━━━━━━━━━━━━━━━━━━\u001b[0m\u001b[37m\u001b[0m \u001b[1m41s\u001b[0m 3s/step - accuracy: 0.7341 - loss: 0.7430 - val_accuracy: 0.5667 - val_loss: 1.0516\n",
      "Epoch 7/10\n",
      "\u001b[1m12/12\u001b[0m \u001b[32m━━━━━━━━━━━━━━━━━━━━\u001b[0m\u001b[37m\u001b[0m \u001b[1m31s\u001b[0m 3s/step - accuracy: 0.8010 - loss: 0.6332 - val_accuracy: 0.4778 - val_loss: 1.2650\n",
      "Epoch 8/10\n",
      "\u001b[1m12/12\u001b[0m \u001b[32m━━━━━━━━━━━━━━━━━━━━\u001b[0m\u001b[37m\u001b[0m \u001b[1m31s\u001b[0m 3s/step - accuracy: 0.7473 - loss: 0.6776 - val_accuracy: 0.6222 - val_loss: 1.2340\n",
      "Epoch 9/10\n",
      "\u001b[1m12/12\u001b[0m \u001b[32m━━━━━━━━━━━━━━━━━━━━\u001b[0m\u001b[37m\u001b[0m \u001b[1m32s\u001b[0m 3s/step - accuracy: 0.7627 - loss: 0.6556 - val_accuracy: 0.5556 - val_loss: 1.0776\n",
      "Epoch 10/10\n",
      "\u001b[1m12/12\u001b[0m \u001b[32m━━━━━━━━━━━━━━━━━━━━\u001b[0m\u001b[37m\u001b[0m \u001b[1m30s\u001b[0m 2s/step - accuracy: 0.8314 - loss: 0.5431 - val_accuracy: 0.6333 - val_loss: 0.9308\n"
     ]
    },
    {
     "data": {
      "text/plain": [
       "<keras.src.callbacks.history.History at 0x23b89a513f0>"
      ]
     },
     "execution_count": 9,
     "metadata": {},
     "output_type": "execute_result"
    }
   ],
   "source": [
    "checkpoint_dir = \"vgg_models/\"\n",
    "os.makedirs(checkpoint_dir, exist_ok=True)\n",
    "\n",
    "# Load pre-trained VGG16 model (without including top fully connected layers)\n",
    "vgg_model = VGG16(weights='imagenet', include_top=False, input_shape=(224,224,3))\n",
    "\n",
    "# Freeze the pre-trained layers\n",
    "for layer in vgg_model.layers:\n",
    "    layer.trainable = False\n",
    "\n",
    "# Add classification head\n",
    "model = Sequential()\n",
    "model.add(vgg_model)\n",
    "model.add(Flatten())\n",
    "model.add(Dense(128, activation='relu'))\n",
    "model.add(Dense(64, activation='relu'))\n",
    "model.add(Dense(len(genre_names), activation='softmax'))  # Output layer with num_classes units\n",
    "\n",
    "model.compile(optimizer='adam', loss='categorical_crossentropy', metrics=['accuracy'])\n",
    "\n",
    "# Train the model\n",
    "model.fit(X_train, y_train, epochs=10, batch_size=32, validation_split=0.2)\n",
    "\n"
   ]
  },
  {
   "cell_type": "code",
   "execution_count": 10,
   "metadata": {},
   "outputs": [],
   "source": [
    "# Save the final trained model\n",
    "model.save(f\"vgg_models/vgg16_stft_epoch_10_batch_32.keras\")"
   ]
  },
  {
   "cell_type": "code",
   "execution_count": 11,
   "metadata": {},
   "outputs": [],
   "source": [
    "# Load the saved VGGNet model\n",
    "saved_model_path = \"vgg_models/vgg16_stft_epoch_10_batch_32.keras\"\n",
    "model = load_model(saved_model_path)"
   ]
  },
  {
   "cell_type": "code",
   "execution_count": 12,
   "metadata": {},
   "outputs": [
    {
     "name": "stdout",
     "output_type": "stream",
     "text": [
      "\u001b[1m4/4\u001b[0m \u001b[32m━━━━━━━━━━━━━━━━━━━━\u001b[0m\u001b[37m\u001b[0m \u001b[1m9s\u001b[0m 2s/step - accuracy: 0.7545 - loss: 0.6461\n",
      "Test Loss: 0.7031\n",
      "Test Accuracy: 0.7143\n",
      "\u001b[1m4/4\u001b[0m \u001b[32m━━━━━━━━━━━━━━━━━━━━\u001b[0m\u001b[37m\u001b[0m \u001b[1m8s\u001b[0m 2s/step\n",
      "Classification Report:\n",
      "              precision    recall  f1-score   support\n",
      "\n",
      "        rock       0.80      0.77      0.78        26\n",
      "         pop       0.72      0.82      0.77        22\n",
      "     arabesk       0.61      0.73      0.67        15\n",
      "  turk_sanat       0.71      0.50      0.59        10\n",
      "        jazz       0.52      0.69      0.59        16\n",
      "         rap       0.94      0.65      0.77        23\n",
      "\n",
      "    accuracy                           0.71       112\n",
      "   macro avg       0.72      0.69      0.69       112\n",
      "weighted avg       0.74      0.71      0.72       112\n",
      "\n"
     ]
    },
    {
     "data": {
      "image/png": "[encoded data removed]",
      "text/plain": [
       "<Figure size 1000x700 with 2 Axes>"
      ]
     },
     "metadata": {},
     "output_type": "display_data"
    }
   ],
   "source": [
    "# Evaluate the model on test data\n",
    "test_loss, test_accuracy = model.evaluate(X_test, y_test, verbose=1)\n",
    "print(f\"Test Loss: {test_loss:.4f}\")\n",
    "print(f\"Test Accuracy: {test_accuracy:.4f}\")\n",
    "\n",
    "# Get predicted probabilities for each class\n",
    "y_pred_probs = model.predict(X_test)\n",
    "\n",
    "# Get predicted class labels\n",
    "y_pred_labels = np.argmax(y_pred_probs, axis=1)\n",
    "\n",
    "# Get true class labels (already one-hot encoded)\n",
    "y_true_labels = np.argmax(y_test, axis=1)\n",
    "\n",
    "# Generate and display a classification report\n",
    "class_names = genre_names  # List of genre names\n",
    "classification_rep = classification_report(y_true_labels, y_pred_labels, target_names=class_names)\n",
    "print(\"Classification Report:\")\n",
    "print(classification_rep)\n",
    "\n",
    "# Generate and display a confusion matrix\n",
    "conf_mat = confusion_matrix(y_true_labels, y_pred_labels)\n",
    "plt.figure(figsize=(10, 7))\n",
    "sn.heatmap(conf_mat, annot=True, fmt='d', cmap='Blues', xticklabels=class_names, yticklabels=class_names)\n",
    "plt.title(\"Confusion Matrix\")\n",
    "plt.xlabel(\"Predicted Label\")\n",
    "plt.ylabel(\"True Label\")\n",
    "plt.show()"
   ]
  }
 ],
 "metadata": {
  "kernelspec": {
   "display_name": "venv",
   "language": "python",
   "name": "python3"
  },
  "language_info": {
   "codemirror_mode": {
    "name": "ipython",
    "version": 3
   },
   "file_extension": ".py",
   "mimetype": "text/x-python",
   "name": "python",
   "nbconvert_exporter": "python",
   "pygments_lexer": "ipython3",
   "version": "3.10.6"
  }
 },
 "nbformat": 4,
 "nbformat_minor": 2
}
