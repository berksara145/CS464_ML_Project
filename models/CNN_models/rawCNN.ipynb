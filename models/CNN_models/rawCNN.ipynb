{
 "cells": [
  {
   "cell_type": "code",
   "execution_count": null,
   "metadata": {},
   "outputs": [],
   "source": []
  }
 ],
 "metadata": {
  "kernelspec": {
   "display_name": "Python 3.10.6 ('venv': venv)",
   "language": "python",
   "name": "python3"
  },
  "language_info": {
   "name": "python",
   "version": "3.10.6"
  },
  "orig_nbformat": 4,
  "vscode": {
   "interpreter": {
    "hash": "146dcd02ce63130d4ac90e9e1fee8e3d2d9c5db097461fed057b5522b849667c"
   }
  }
 },
 "nbformat": 4,
 "nbformat_minor": 2
}
